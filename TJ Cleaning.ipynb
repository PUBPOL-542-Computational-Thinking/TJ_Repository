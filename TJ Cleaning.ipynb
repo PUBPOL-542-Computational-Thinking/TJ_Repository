{
 "cells": [
  {
   "cell_type": "markdown",
   "metadata": {},
   "source": [
    "From the IPython library the Image module has been imported to recognize the png format of the image and throw it out as an output using the **display** function."
   ]
  },
  {
   "cell_type": "code",
   "execution_count": 32,
   "metadata": {},
   "outputs": [
    {
     "data": {
      "image/png": "[encoded data removed]",
      "text/plain": [
       "<IPython.core.display.Image object>"
      ]
     },
     "execution_count": 32,
     "metadata": {},
     "output_type": "execute_result"
    }
   ],
   "source": [
    "from IPython.display import Image\n",
    "Image(filename='UWHeader.png')"
   ]
  },
  {
   "cell_type": "markdown",
   "metadata": {},
   "source": [
    "**Student Name: TJ Vijapurapu**\n",
    "\n",
    "**Subject: Computational Thinking for Governance Analytics**\n",
    "\n",
    "**Faculty Name: Prof. José Manuel Magallanes, PhD**\n",
    "\n",
    "**Date: 16 March, 2021**"
   ]
  },
  {
   "cell_type": "markdown",
   "metadata": {},
   "source": [
    "**Summary of this file**: This file is a tutorial on cleaning and formatting the information on a table I will extract from a wikipedia page. The wikipedia page in this example is a list of countries by percentage of population living in poverty. The purpose of the code is to remove any impurities that does not allow one to format data and then to ensure that the cleaned value is formatted in the right data type. For example, any inconsistent blank spaces, uneeded symbols, etc will be cleaned out and then formatted to standardize content to ensure consistency. "
   ]
  },
  {
   "cell_type": "markdown",
   "metadata": {},
   "source": [
    "In the following code, \"IFrame\" helps host content from an external source on the webpage. This function has been \"imported\" from the IPython library. The display function shows the content for the user to view. "
   ]
  },
  {
   "cell_type": "code",
   "execution_count": 33,
   "metadata": {},
   "outputs": [
    {
     "data": {
      "text/html": [
       "\n",
       "        <iframe\n",
       "            width=\"900\"\n",
       "            height=\"500\"\n",
       "            src=\"https://en.wikipedia.org/wiki/List_of_countries_by_percentage_of_population_living_in_poverty\"\n",
       "            frameborder=\"0\"\n",
       "            allowfullscreen\n",
       "        ></iframe>\n",
       "        "
      ],
      "text/plain": [
       "<IPython.lib.display.IFrame at 0x7fb1f0a4bfa0>"
      ]
     },
     "execution_count": 33,
     "metadata": {},
     "output_type": "execute_result"
    }
   ],
   "source": [
    "from IPython.display import IFrame  \n",
    "wikiLink=\"https://en.wikipedia.org/wiki/List_of_countries_by_percentage_of_population_living_in_poverty\" \n",
    "IFrame(wikiLink, width=900, height=500)"
   ]
  },
  {
   "cell_type": "markdown",
   "metadata": {},
   "source": [
    "In the following code, we import **pandas**, which is a package that Python needs to read **data frames** (data table). \n",
    "The object **wikiTables** is a list. "
   ]
  },
  {
   "cell_type": "code",
   "execution_count": 34,
   "metadata": {},
   "outputs": [],
   "source": [
    "import pandas as pd\n",
    "\n",
    "wikiTables=pd.read_html(wikiLink, # link\n",
    "                        #header=0, # where is the header?\n",
    "                        flavor='bs4', # helper to translate html\n",
    "                        attrs={'class': 'wikitable sortable'}) # attributes to identify element(s)"
   ]
  },
  {
   "cell_type": "markdown",
   "metadata": {},
   "source": [
    "The index number below indicates the table number on the webpage. The table I wish to use here is the first one on the webpage and so I use the index number 0 to indicate it. Remember that numbers begin from 0 instead of 1 in Python."
   ]
  },
  {
   "cell_type": "code",
   "execution_count": 35,
   "metadata": {},
   "outputs": [
    {
     "data": {
      "text/html": [
       "<div>\n",
       "<style scoped>\n",
       "    .dataframe tbody tr th:only-of-type {\n",
       "        vertical-align: middle;\n",
       "    }\n",
       "\n",
       "    .dataframe tbody tr th {\n",
       "        vertical-align: top;\n",
       "    }\n",
       "\n",
       "    .dataframe thead th {\n",
       "        text-align: right;\n",
       "    }\n",
       "</style>\n",
       "<table border=\"1\" class=\"dataframe\">\n",
       "  <thead>\n",
       "    <tr style=\"text-align: right;\">\n",
       "      <th></th>\n",
       "      <th>Country</th>\n",
       "      <th>&lt; $1.90[1]</th>\n",
       "      <th>&lt; $3.20[5]</th>\n",
       "      <th>&lt; $5.50[6]</th>\n",
       "      <th>Year</th>\n",
       "      <th>Continent</th>\n",
       "    </tr>\n",
       "  </thead>\n",
       "  <tbody>\n",
       "    <tr>\n",
       "      <th>0</th>\n",
       "      <td>Afghanistan</td>\n",
       "      <td>NaN</td>\n",
       "      <td>NaN</td>\n",
       "      <td>NaN</td>\n",
       "      <td>NaN</td>\n",
       "      <td>Asia</td>\n",
       "    </tr>\n",
       "    <tr>\n",
       "      <th>1</th>\n",
       "      <td>Albania</td>\n",
       "      <td>1.3%</td>\n",
       "      <td>8.2%</td>\n",
       "      <td>33.8%</td>\n",
       "      <td>2017.0</td>\n",
       "      <td>Europe</td>\n",
       "    </tr>\n",
       "    <tr>\n",
       "      <th>2</th>\n",
       "      <td>Algeria</td>\n",
       "      <td>0.4%</td>\n",
       "      <td>3.7%</td>\n",
       "      <td>28.6%</td>\n",
       "      <td>2011.0</td>\n",
       "      <td>Africa</td>\n",
       "    </tr>\n",
       "    <tr>\n",
       "      <th>3</th>\n",
       "      <td>Andorra</td>\n",
       "      <td>NaN</td>\n",
       "      <td>NaN</td>\n",
       "      <td>NaN</td>\n",
       "      <td>NaN</td>\n",
       "      <td>Europe</td>\n",
       "    </tr>\n",
       "    <tr>\n",
       "      <th>4</th>\n",
       "      <td>Angola</td>\n",
       "      <td>51.8%</td>\n",
       "      <td>73.2%</td>\n",
       "      <td>89.3%</td>\n",
       "      <td>2018.0</td>\n",
       "      <td>Africa</td>\n",
       "    </tr>\n",
       "    <tr>\n",
       "      <th>...</th>\n",
       "      <td>...</td>\n",
       "      <td>...</td>\n",
       "      <td>...</td>\n",
       "      <td>...</td>\n",
       "      <td>...</td>\n",
       "      <td>...</td>\n",
       "    </tr>\n",
       "    <tr>\n",
       "      <th>191</th>\n",
       "      <td>Venezuela</td>\n",
       "      <td>10.2%</td>\n",
       "      <td>17.8%</td>\n",
       "      <td>35.6%</td>\n",
       "      <td>2006.0</td>\n",
       "      <td>South America</td>\n",
       "    </tr>\n",
       "    <tr>\n",
       "      <th>192</th>\n",
       "      <td>Vietnam</td>\n",
       "      <td>1.9%</td>\n",
       "      <td>7.0%</td>\n",
       "      <td>23.6%</td>\n",
       "      <td>2018.0</td>\n",
       "      <td>Asia</td>\n",
       "    </tr>\n",
       "    <tr>\n",
       "      <th>193</th>\n",
       "      <td>Yemen</td>\n",
       "      <td>18.8%</td>\n",
       "      <td>52.2%</td>\n",
       "      <td>81.6%</td>\n",
       "      <td>2014.0</td>\n",
       "      <td>Asia</td>\n",
       "    </tr>\n",
       "    <tr>\n",
       "      <th>194</th>\n",
       "      <td>Zambia</td>\n",
       "      <td>57.5%</td>\n",
       "      <td>74.3%</td>\n",
       "      <td>87.2%</td>\n",
       "      <td>2015.0</td>\n",
       "      <td>Africa</td>\n",
       "    </tr>\n",
       "    <tr>\n",
       "      <th>195</th>\n",
       "      <td>Zimbabwe</td>\n",
       "      <td>21.4%</td>\n",
       "      <td>47.2%</td>\n",
       "      <td>74.0%</td>\n",
       "      <td>2011.0</td>\n",
       "      <td>Africa</td>\n",
       "    </tr>\n",
       "  </tbody>\n",
       "</table>\n",
       "<p>196 rows × 6 columns</p>\n",
       "</div>"
      ],
      "text/plain": [
       "         Country < $1.90[1] < $3.20[5] < $5.50[6]    Year      Continent\n",
       "0    Afghanistan        NaN        NaN        NaN     NaN           Asia\n",
       "1        Albania       1.3%       8.2%      33.8%  2017.0         Europe\n",
       "2        Algeria       0.4%       3.7%      28.6%  2011.0         Africa\n",
       "3        Andorra        NaN        NaN        NaN     NaN         Europe\n",
       "4         Angola      51.8%      73.2%      89.3%  2018.0         Africa\n",
       "..           ...        ...        ...        ...     ...            ...\n",
       "191    Venezuela      10.2%      17.8%      35.6%  2006.0  South America\n",
       "192      Vietnam       1.9%       7.0%      23.6%  2018.0           Asia\n",
       "193        Yemen      18.8%      52.2%      81.6%  2014.0           Asia\n",
       "194       Zambia      57.5%      74.3%      87.2%  2015.0         Africa\n",
       "195     Zimbabwe      21.4%      47.2%      74.0%  2011.0         Africa\n",
       "\n",
       "[196 rows x 6 columns]"
      ]
     },
     "execution_count": 35,
     "metadata": {},
     "output_type": "execute_result"
    }
   ],
   "source": [
    "wikiTables[0]"
   ]
  },
  {
   "cell_type": "markdown",
   "metadata": {},
   "source": [
    "TJdata is the object that has stored this dataframe temporarily."
   ]
  },
  {
   "cell_type": "code",
   "execution_count": 36,
   "metadata": {},
   "outputs": [],
   "source": [
    "TJdata=wikiTables[0]"
   ]
  },
  {
   "cell_type": "code",
   "execution_count": 37,
   "metadata": {},
   "outputs": [
    {
     "data": {
      "text/html": [
       "<div>\n",
       "<style scoped>\n",
       "    .dataframe tbody tr th:only-of-type {\n",
       "        vertical-align: middle;\n",
       "    }\n",
       "\n",
       "    .dataframe tbody tr th {\n",
       "        vertical-align: top;\n",
       "    }\n",
       "\n",
       "    .dataframe thead th {\n",
       "        text-align: right;\n",
       "    }\n",
       "</style>\n",
       "<table border=\"1\" class=\"dataframe\">\n",
       "  <thead>\n",
       "    <tr style=\"text-align: right;\">\n",
       "      <th></th>\n",
       "      <th>Country</th>\n",
       "      <th>&lt; $1.90[1]</th>\n",
       "      <th>&lt; $3.20[5]</th>\n",
       "      <th>&lt; $5.50[6]</th>\n",
       "      <th>Year</th>\n",
       "      <th>Continent</th>\n",
       "    </tr>\n",
       "  </thead>\n",
       "  <tbody>\n",
       "    <tr>\n",
       "      <th>0</th>\n",
       "      <td>Afghanistan</td>\n",
       "      <td>NaN</td>\n",
       "      <td>NaN</td>\n",
       "      <td>NaN</td>\n",
       "      <td>NaN</td>\n",
       "      <td>Asia</td>\n",
       "    </tr>\n",
       "    <tr>\n",
       "      <th>1</th>\n",
       "      <td>Albania</td>\n",
       "      <td>1.3%</td>\n",
       "      <td>8.2%</td>\n",
       "      <td>33.8%</td>\n",
       "      <td>2017.0</td>\n",
       "      <td>Europe</td>\n",
       "    </tr>\n",
       "    <tr>\n",
       "      <th>2</th>\n",
       "      <td>Algeria</td>\n",
       "      <td>0.4%</td>\n",
       "      <td>3.7%</td>\n",
       "      <td>28.6%</td>\n",
       "      <td>2011.0</td>\n",
       "      <td>Africa</td>\n",
       "    </tr>\n",
       "    <tr>\n",
       "      <th>3</th>\n",
       "      <td>Andorra</td>\n",
       "      <td>NaN</td>\n",
       "      <td>NaN</td>\n",
       "      <td>NaN</td>\n",
       "      <td>NaN</td>\n",
       "      <td>Europe</td>\n",
       "    </tr>\n",
       "    <tr>\n",
       "      <th>4</th>\n",
       "      <td>Angola</td>\n",
       "      <td>51.8%</td>\n",
       "      <td>73.2%</td>\n",
       "      <td>89.3%</td>\n",
       "      <td>2018.0</td>\n",
       "      <td>Africa</td>\n",
       "    </tr>\n",
       "    <tr>\n",
       "      <th>...</th>\n",
       "      <td>...</td>\n",
       "      <td>...</td>\n",
       "      <td>...</td>\n",
       "      <td>...</td>\n",
       "      <td>...</td>\n",
       "      <td>...</td>\n",
       "    </tr>\n",
       "    <tr>\n",
       "      <th>191</th>\n",
       "      <td>Venezuela</td>\n",
       "      <td>10.2%</td>\n",
       "      <td>17.8%</td>\n",
       "      <td>35.6%</td>\n",
       "      <td>2006.0</td>\n",
       "      <td>South America</td>\n",
       "    </tr>\n",
       "    <tr>\n",
       "      <th>192</th>\n",
       "      <td>Vietnam</td>\n",
       "      <td>1.9%</td>\n",
       "      <td>7.0%</td>\n",
       "      <td>23.6%</td>\n",
       "      <td>2018.0</td>\n",
       "      <td>Asia</td>\n",
       "    </tr>\n",
       "    <tr>\n",
       "      <th>193</th>\n",
       "      <td>Yemen</td>\n",
       "      <td>18.8%</td>\n",
       "      <td>52.2%</td>\n",
       "      <td>81.6%</td>\n",
       "      <td>2014.0</td>\n",
       "      <td>Asia</td>\n",
       "    </tr>\n",
       "    <tr>\n",
       "      <th>194</th>\n",
       "      <td>Zambia</td>\n",
       "      <td>57.5%</td>\n",
       "      <td>74.3%</td>\n",
       "      <td>87.2%</td>\n",
       "      <td>2015.0</td>\n",
       "      <td>Africa</td>\n",
       "    </tr>\n",
       "    <tr>\n",
       "      <th>195</th>\n",
       "      <td>Zimbabwe</td>\n",
       "      <td>21.4%</td>\n",
       "      <td>47.2%</td>\n",
       "      <td>74.0%</td>\n",
       "      <td>2011.0</td>\n",
       "      <td>Africa</td>\n",
       "    </tr>\n",
       "  </tbody>\n",
       "</table>\n",
       "<p>196 rows × 6 columns</p>\n",
       "</div>"
      ],
      "text/plain": [
       "         Country < $1.90[1] < $3.20[5] < $5.50[6]    Year      Continent\n",
       "0    Afghanistan        NaN        NaN        NaN     NaN           Asia\n",
       "1        Albania       1.3%       8.2%      33.8%  2017.0         Europe\n",
       "2        Algeria       0.4%       3.7%      28.6%  2011.0         Africa\n",
       "3        Andorra        NaN        NaN        NaN     NaN         Europe\n",
       "4         Angola      51.8%      73.2%      89.3%  2018.0         Africa\n",
       "..           ...        ...        ...        ...     ...            ...\n",
       "191    Venezuela      10.2%      17.8%      35.6%  2006.0  South America\n",
       "192      Vietnam       1.9%       7.0%      23.6%  2018.0           Asia\n",
       "193        Yemen      18.8%      52.2%      81.6%  2014.0           Asia\n",
       "194       Zambia      57.5%      74.3%      87.2%  2015.0         Africa\n",
       "195     Zimbabwe      21.4%      47.2%      74.0%  2011.0         Africa\n",
       "\n",
       "[196 rows x 6 columns]"
      ]
     },
     "execution_count": 37,
     "metadata": {},
     "output_type": "execute_result"
    }
   ],
   "source": [
    "TJdata"
   ]
  },
  {
   "cell_type": "markdown",
   "metadata": {},
   "source": [
    "In the following code, TJdata is being redefined as a modified table. The iloc function enables to select particular cells of the dataset. In this code, it is selecting all rows (as indicated by \":\") and colums 1,4, and 6 as indicated by index numbers 0,3, and 5 respectively. "
   ]
  },
  {
   "cell_type": "code",
   "execution_count": 38,
   "metadata": {},
   "outputs": [],
   "source": [
    "TJdata=TJdata.iloc[:,[0,3,5]]"
   ]
  },
  {
   "cell_type": "code",
   "execution_count": 39,
   "metadata": {},
   "outputs": [
    {
     "data": {
      "text/html": [
       "<div>\n",
       "<style scoped>\n",
       "    .dataframe tbody tr th:only-of-type {\n",
       "        vertical-align: middle;\n",
       "    }\n",
       "\n",
       "    .dataframe tbody tr th {\n",
       "        vertical-align: top;\n",
       "    }\n",
       "\n",
       "    .dataframe thead th {\n",
       "        text-align: right;\n",
       "    }\n",
       "</style>\n",
       "<table border=\"1\" class=\"dataframe\">\n",
       "  <thead>\n",
       "    <tr style=\"text-align: right;\">\n",
       "      <th></th>\n",
       "      <th>Country</th>\n",
       "      <th>&lt; $5.50[6]</th>\n",
       "      <th>Continent</th>\n",
       "    </tr>\n",
       "  </thead>\n",
       "  <tbody>\n",
       "    <tr>\n",
       "      <th>0</th>\n",
       "      <td>Afghanistan</td>\n",
       "      <td>NaN</td>\n",
       "      <td>Asia</td>\n",
       "    </tr>\n",
       "    <tr>\n",
       "      <th>1</th>\n",
       "      <td>Albania</td>\n",
       "      <td>33.8%</td>\n",
       "      <td>Europe</td>\n",
       "    </tr>\n",
       "    <tr>\n",
       "      <th>2</th>\n",
       "      <td>Algeria</td>\n",
       "      <td>28.6%</td>\n",
       "      <td>Africa</td>\n",
       "    </tr>\n",
       "    <tr>\n",
       "      <th>3</th>\n",
       "      <td>Andorra</td>\n",
       "      <td>NaN</td>\n",
       "      <td>Europe</td>\n",
       "    </tr>\n",
       "    <tr>\n",
       "      <th>4</th>\n",
       "      <td>Angola</td>\n",
       "      <td>89.3%</td>\n",
       "      <td>Africa</td>\n",
       "    </tr>\n",
       "    <tr>\n",
       "      <th>...</th>\n",
       "      <td>...</td>\n",
       "      <td>...</td>\n",
       "      <td>...</td>\n",
       "    </tr>\n",
       "    <tr>\n",
       "      <th>191</th>\n",
       "      <td>Venezuela</td>\n",
       "      <td>35.6%</td>\n",
       "      <td>South America</td>\n",
       "    </tr>\n",
       "    <tr>\n",
       "      <th>192</th>\n",
       "      <td>Vietnam</td>\n",
       "      <td>23.6%</td>\n",
       "      <td>Asia</td>\n",
       "    </tr>\n",
       "    <tr>\n",
       "      <th>193</th>\n",
       "      <td>Yemen</td>\n",
       "      <td>81.6%</td>\n",
       "      <td>Asia</td>\n",
       "    </tr>\n",
       "    <tr>\n",
       "      <th>194</th>\n",
       "      <td>Zambia</td>\n",
       "      <td>87.2%</td>\n",
       "      <td>Africa</td>\n",
       "    </tr>\n",
       "    <tr>\n",
       "      <th>195</th>\n",
       "      <td>Zimbabwe</td>\n",
       "      <td>74.0%</td>\n",
       "      <td>Africa</td>\n",
       "    </tr>\n",
       "  </tbody>\n",
       "</table>\n",
       "<p>196 rows × 3 columns</p>\n",
       "</div>"
      ],
      "text/plain": [
       "         Country < $5.50[6]      Continent\n",
       "0    Afghanistan        NaN           Asia\n",
       "1        Albania      33.8%         Europe\n",
       "2        Algeria      28.6%         Africa\n",
       "3        Andorra        NaN         Europe\n",
       "4         Angola      89.3%         Africa\n",
       "..           ...        ...            ...\n",
       "191    Venezuela      35.6%  South America\n",
       "192      Vietnam      23.6%           Asia\n",
       "193        Yemen      81.6%           Asia\n",
       "194       Zambia      87.2%         Africa\n",
       "195     Zimbabwe      74.0%         Africa\n",
       "\n",
       "[196 rows x 3 columns]"
      ]
     },
     "execution_count": 39,
     "metadata": {},
     "output_type": "execute_result"
    }
   ],
   "source": [
    "TJdata"
   ]
  },
  {
   "cell_type": "markdown",
   "metadata": {},
   "source": [
    "The second column name in the above dataset contains symbols that may get in the way of subsequent coding. To clean and format, brackets and \"<\" need to be removed. In the following code, the **change** is an object that replaces one column name to the other. In the following line, the TJdata dataframe uses a **rename** function to swap the names of the column and permanently store it as the true value."
   ]
  },
  {
   "cell_type": "code",
   "execution_count": 40,
   "metadata": {},
   "outputs": [],
   "source": [
    "change={'< $5.50[6]':'lessthan5_50'}"
   ]
  },
  {
   "cell_type": "code",
   "execution_count": 41,
   "metadata": {},
   "outputs": [
    {
     "name": "stderr",
     "output_type": "stream",
     "text": [
      "/Users/tejaswinivijapurapu/opt/anaconda3/lib/python3.8/site-packages/pandas/core/frame.py:4296: SettingWithCopyWarning: \n",
      "A value is trying to be set on a copy of a slice from a DataFrame\n",
      "\n",
      "See the caveats in the documentation: https://pandas.pydata.org/pandas-docs/stable/user_guide/indexing.html#returning-a-view-versus-a-copy\n",
      "  return super().rename(\n"
     ]
    }
   ],
   "source": [
    "TJdata.rename(columns=change,inplace=True)"
   ]
  },
  {
   "cell_type": "code",
   "execution_count": 42,
   "metadata": {},
   "outputs": [
    {
     "data": {
      "text/html": [
       "<div>\n",
       "<style scoped>\n",
       "    .dataframe tbody tr th:only-of-type {\n",
       "        vertical-align: middle;\n",
       "    }\n",
       "\n",
       "    .dataframe tbody tr th {\n",
       "        vertical-align: top;\n",
       "    }\n",
       "\n",
       "    .dataframe thead th {\n",
       "        text-align: right;\n",
       "    }\n",
       "</style>\n",
       "<table border=\"1\" class=\"dataframe\">\n",
       "  <thead>\n",
       "    <tr style=\"text-align: right;\">\n",
       "      <th></th>\n",
       "      <th>Country</th>\n",
       "      <th>lessthan5_50</th>\n",
       "      <th>Continent</th>\n",
       "    </tr>\n",
       "  </thead>\n",
       "  <tbody>\n",
       "    <tr>\n",
       "      <th>0</th>\n",
       "      <td>Afghanistan</td>\n",
       "      <td>NaN</td>\n",
       "      <td>Asia</td>\n",
       "    </tr>\n",
       "    <tr>\n",
       "      <th>1</th>\n",
       "      <td>Albania</td>\n",
       "      <td>33.8%</td>\n",
       "      <td>Europe</td>\n",
       "    </tr>\n",
       "    <tr>\n",
       "      <th>2</th>\n",
       "      <td>Algeria</td>\n",
       "      <td>28.6%</td>\n",
       "      <td>Africa</td>\n",
       "    </tr>\n",
       "    <tr>\n",
       "      <th>3</th>\n",
       "      <td>Andorra</td>\n",
       "      <td>NaN</td>\n",
       "      <td>Europe</td>\n",
       "    </tr>\n",
       "    <tr>\n",
       "      <th>4</th>\n",
       "      <td>Angola</td>\n",
       "      <td>89.3%</td>\n",
       "      <td>Africa</td>\n",
       "    </tr>\n",
       "    <tr>\n",
       "      <th>...</th>\n",
       "      <td>...</td>\n",
       "      <td>...</td>\n",
       "      <td>...</td>\n",
       "    </tr>\n",
       "    <tr>\n",
       "      <th>191</th>\n",
       "      <td>Venezuela</td>\n",
       "      <td>35.6%</td>\n",
       "      <td>South America</td>\n",
       "    </tr>\n",
       "    <tr>\n",
       "      <th>192</th>\n",
       "      <td>Vietnam</td>\n",
       "      <td>23.6%</td>\n",
       "      <td>Asia</td>\n",
       "    </tr>\n",
       "    <tr>\n",
       "      <th>193</th>\n",
       "      <td>Yemen</td>\n",
       "      <td>81.6%</td>\n",
       "      <td>Asia</td>\n",
       "    </tr>\n",
       "    <tr>\n",
       "      <th>194</th>\n",
       "      <td>Zambia</td>\n",
       "      <td>87.2%</td>\n",
       "      <td>Africa</td>\n",
       "    </tr>\n",
       "    <tr>\n",
       "      <th>195</th>\n",
       "      <td>Zimbabwe</td>\n",
       "      <td>74.0%</td>\n",
       "      <td>Africa</td>\n",
       "    </tr>\n",
       "  </tbody>\n",
       "</table>\n",
       "<p>196 rows × 3 columns</p>\n",
       "</div>"
      ],
      "text/plain": [
       "         Country lessthan5_50      Continent\n",
       "0    Afghanistan          NaN           Asia\n",
       "1        Albania        33.8%         Europe\n",
       "2        Algeria        28.6%         Africa\n",
       "3        Andorra          NaN         Europe\n",
       "4         Angola        89.3%         Africa\n",
       "..           ...          ...            ...\n",
       "191    Venezuela        35.6%  South America\n",
       "192      Vietnam        23.6%           Asia\n",
       "193        Yemen        81.6%           Asia\n",
       "194       Zambia        87.2%         Africa\n",
       "195     Zimbabwe        74.0%         Africa\n",
       "\n",
       "[196 rows x 3 columns]"
      ]
     },
     "execution_count": 42,
     "metadata": {},
     "output_type": "execute_result"
    }
   ],
   "source": [
    "TJdata"
   ]
  },
  {
   "cell_type": "markdown",
   "metadata": {},
   "source": [
    "An important part of formatting is to ensure that data has been recognized by python in the correct format. For example, numbers should be recognized as float while letters as object. the **info** function displays this information as shown below. "
   ]
  },
  {
   "cell_type": "code",
   "execution_count": 43,
   "metadata": {},
   "outputs": [
    {
     "name": "stdout",
     "output_type": "stream",
     "text": [
      "<class 'pandas.core.frame.DataFrame'>\n",
      "RangeIndex: 196 entries, 0 to 195\n",
      "Data columns (total 3 columns):\n",
      " #   Column        Non-Null Count  Dtype \n",
      "---  ------        --------------  ----- \n",
      " 0   Country       196 non-null    object\n",
      " 1   lessthan5_50  164 non-null    object\n",
      " 2   Continent     196 non-null    object\n",
      "dtypes: object(3)\n",
      "memory usage: 4.7+ KB\n"
     ]
    }
   ],
   "source": [
    "TJdata.info()"
   ]
  },
  {
   "cell_type": "markdown",
   "metadata": {},
   "source": [
    "The info function shows that the lessthat5_50 column has not been recognized as numbers. As an alternative, the % in the above dataset has been taken out using the replace function as shown below. "
   ]
  },
  {
   "cell_type": "code",
   "execution_count": 44,
   "metadata": {},
   "outputs": [
    {
     "data": {
      "text/plain": [
       "0       NaN\n",
       "1      33.8\n",
       "2      28.6\n",
       "3       NaN\n",
       "4      89.3\n",
       "       ... \n",
       "191    35.6\n",
       "192    23.6\n",
       "193    81.6\n",
       "194    87.2\n",
       "195    74.0\n",
       "Name: lessthan5_50, Length: 196, dtype: object"
      ]
     },
     "execution_count": 44,
     "metadata": {},
     "output_type": "execute_result"
    }
   ],
   "source": [
    "TJdata.lessthan5_50.str.replace('%','')"
   ]
  },
  {
   "cell_type": "markdown",
   "metadata": {},
   "source": [
    "Even after taking out the \"%\" from the string, it is still being recognized as an object as shown below. "
   ]
  },
  {
   "cell_type": "code",
   "execution_count": 45,
   "metadata": {},
   "outputs": [
    {
     "name": "stderr",
     "output_type": "stream",
     "text": [
      "<ipython-input-45-4ec947431cdb>:1: SettingWithCopyWarning: \n",
      "A value is trying to be set on a copy of a slice from a DataFrame.\n",
      "Try using .loc[row_indexer,col_indexer] = value instead\n",
      "\n",
      "See the caveats in the documentation: https://pandas.pydata.org/pandas-docs/stable/user_guide/indexing.html#returning-a-view-versus-a-copy\n",
      "  TJdata['lessthan5_50']=TJdata.lessthan5_50.str.replace('%','')\n"
     ]
    }
   ],
   "source": [
    "TJdata['lessthan5_50']=TJdata.lessthan5_50.str.replace('%','')"
   ]
  },
  {
   "cell_type": "code",
   "execution_count": 46,
   "metadata": {},
   "outputs": [
    {
     "data": {
      "text/html": [
       "<div>\n",
       "<style scoped>\n",
       "    .dataframe tbody tr th:only-of-type {\n",
       "        vertical-align: middle;\n",
       "    }\n",
       "\n",
       "    .dataframe tbody tr th {\n",
       "        vertical-align: top;\n",
       "    }\n",
       "\n",
       "    .dataframe thead th {\n",
       "        text-align: right;\n",
       "    }\n",
       "</style>\n",
       "<table border=\"1\" class=\"dataframe\">\n",
       "  <thead>\n",
       "    <tr style=\"text-align: right;\">\n",
       "      <th></th>\n",
       "      <th>Country</th>\n",
       "      <th>lessthan5_50</th>\n",
       "      <th>Continent</th>\n",
       "    </tr>\n",
       "  </thead>\n",
       "  <tbody>\n",
       "    <tr>\n",
       "      <th>0</th>\n",
       "      <td>Afghanistan</td>\n",
       "      <td>NaN</td>\n",
       "      <td>Asia</td>\n",
       "    </tr>\n",
       "    <tr>\n",
       "      <th>1</th>\n",
       "      <td>Albania</td>\n",
       "      <td>33.8</td>\n",
       "      <td>Europe</td>\n",
       "    </tr>\n",
       "    <tr>\n",
       "      <th>2</th>\n",
       "      <td>Algeria</td>\n",
       "      <td>28.6</td>\n",
       "      <td>Africa</td>\n",
       "    </tr>\n",
       "    <tr>\n",
       "      <th>3</th>\n",
       "      <td>Andorra</td>\n",
       "      <td>NaN</td>\n",
       "      <td>Europe</td>\n",
       "    </tr>\n",
       "    <tr>\n",
       "      <th>4</th>\n",
       "      <td>Angola</td>\n",
       "      <td>89.3</td>\n",
       "      <td>Africa</td>\n",
       "    </tr>\n",
       "    <tr>\n",
       "      <th>...</th>\n",
       "      <td>...</td>\n",
       "      <td>...</td>\n",
       "      <td>...</td>\n",
       "    </tr>\n",
       "    <tr>\n",
       "      <th>191</th>\n",
       "      <td>Venezuela</td>\n",
       "      <td>35.6</td>\n",
       "      <td>South America</td>\n",
       "    </tr>\n",
       "    <tr>\n",
       "      <th>192</th>\n",
       "      <td>Vietnam</td>\n",
       "      <td>23.6</td>\n",
       "      <td>Asia</td>\n",
       "    </tr>\n",
       "    <tr>\n",
       "      <th>193</th>\n",
       "      <td>Yemen</td>\n",
       "      <td>81.6</td>\n",
       "      <td>Asia</td>\n",
       "    </tr>\n",
       "    <tr>\n",
       "      <th>194</th>\n",
       "      <td>Zambia</td>\n",
       "      <td>87.2</td>\n",
       "      <td>Africa</td>\n",
       "    </tr>\n",
       "    <tr>\n",
       "      <th>195</th>\n",
       "      <td>Zimbabwe</td>\n",
       "      <td>74.0</td>\n",
       "      <td>Africa</td>\n",
       "    </tr>\n",
       "  </tbody>\n",
       "</table>\n",
       "<p>196 rows × 3 columns</p>\n",
       "</div>"
      ],
      "text/plain": [
       "         Country lessthan5_50      Continent\n",
       "0    Afghanistan          NaN           Asia\n",
       "1        Albania         33.8         Europe\n",
       "2        Algeria         28.6         Africa\n",
       "3        Andorra          NaN         Europe\n",
       "4         Angola         89.3         Africa\n",
       "..           ...          ...            ...\n",
       "191    Venezuela         35.6  South America\n",
       "192      Vietnam         23.6           Asia\n",
       "193        Yemen         81.6           Asia\n",
       "194       Zambia         87.2         Africa\n",
       "195     Zimbabwe         74.0         Africa\n",
       "\n",
       "[196 rows x 3 columns]"
      ]
     },
     "execution_count": 46,
     "metadata": {},
     "output_type": "execute_result"
    }
   ],
   "source": [
    "TJdata"
   ]
  },
  {
   "cell_type": "code",
   "execution_count": 47,
   "metadata": {},
   "outputs": [
    {
     "name": "stdout",
     "output_type": "stream",
     "text": [
      "<class 'pandas.core.frame.DataFrame'>\n",
      "RangeIndex: 196 entries, 0 to 195\n",
      "Data columns (total 3 columns):\n",
      " #   Column        Non-Null Count  Dtype \n",
      "---  ------        --------------  ----- \n",
      " 0   Country       196 non-null    object\n",
      " 1   lessthan5_50  164 non-null    object\n",
      " 2   Continent     196 non-null    object\n",
      "dtypes: object(3)\n",
      "memory usage: 4.7+ KB\n"
     ]
    }
   ],
   "source": [
    "TJdata.info()"
   ]
  },
  {
   "cell_type": "markdown",
   "metadata": {},
   "source": [
    "As an alternative, the datatype of the data under column lessthan5_50 has been forced to be recognized as float using the **astype** function. The code following will save the column lessthan5_50 under TJdata as float values."
   ]
  },
  {
   "cell_type": "code",
   "execution_count": 48,
   "metadata": {},
   "outputs": [
    {
     "data": {
      "text/plain": [
       "0       NaN\n",
       "1      33.8\n",
       "2      28.6\n",
       "3       NaN\n",
       "4      89.3\n",
       "       ... \n",
       "191    35.6\n",
       "192    23.6\n",
       "193    81.6\n",
       "194    87.2\n",
       "195    74.0\n",
       "Name: lessthan5_50, Length: 196, dtype: float64"
      ]
     },
     "execution_count": 48,
     "metadata": {},
     "output_type": "execute_result"
    }
   ],
   "source": [
    "TJdata.lessthan5_50.astype('float')"
   ]
  },
  {
   "cell_type": "code",
   "execution_count": 49,
   "metadata": {},
   "outputs": [
    {
     "name": "stderr",
     "output_type": "stream",
     "text": [
      "<ipython-input-49-67f70220e6e7>:1: SettingWithCopyWarning: \n",
      "A value is trying to be set on a copy of a slice from a DataFrame.\n",
      "Try using .loc[row_indexer,col_indexer] = value instead\n",
      "\n",
      "See the caveats in the documentation: https://pandas.pydata.org/pandas-docs/stable/user_guide/indexing.html#returning-a-view-versus-a-copy\n",
      "  TJdata['lessthan5_50']=TJdata.lessthan5_50.astype('float')\n"
     ]
    }
   ],
   "source": [
    "TJdata['lessthan5_50']=TJdata.lessthan5_50.astype('float')"
   ]
  },
  {
   "cell_type": "markdown",
   "metadata": {},
   "source": [
    "Let's check if the **info** function shows a float value for column lessthan5_50. "
   ]
  },
  {
   "cell_type": "code",
   "execution_count": 50,
   "metadata": {},
   "outputs": [
    {
     "name": "stdout",
     "output_type": "stream",
     "text": [
      "<class 'pandas.core.frame.DataFrame'>\n",
      "RangeIndex: 196 entries, 0 to 195\n",
      "Data columns (total 3 columns):\n",
      " #   Column        Non-Null Count  Dtype  \n",
      "---  ------        --------------  -----  \n",
      " 0   Country       196 non-null    object \n",
      " 1   lessthan5_50  164 non-null    float64\n",
      " 2   Continent     196 non-null    object \n",
      "dtypes: float64(1), object(2)\n",
      "memory usage: 4.7+ KB\n"
     ]
    }
   ],
   "source": [
    "TJdata.info()"
   ]
  },
  {
   "cell_type": "markdown",
   "metadata": {},
   "source": [
    "As can be seen above, float64 shows that Python now recognizes all values under column lessthan5_50 as float values."
   ]
  },
  {
   "cell_type": "markdown",
   "metadata": {},
   "source": [
    "The data now has been cleaned and formatted as shown below. It can now be used for susequent coding."
   ]
  },
  {
   "cell_type": "code",
   "execution_count": 51,
   "metadata": {},
   "outputs": [
    {
     "data": {
      "text/html": [
       "<div>\n",
       "<style scoped>\n",
       "    .dataframe tbody tr th:only-of-type {\n",
       "        vertical-align: middle;\n",
       "    }\n",
       "\n",
       "    .dataframe tbody tr th {\n",
       "        vertical-align: top;\n",
       "    }\n",
       "\n",
       "    .dataframe thead th {\n",
       "        text-align: right;\n",
       "    }\n",
       "</style>\n",
       "<table border=\"1\" class=\"dataframe\">\n",
       "  <thead>\n",
       "    <tr style=\"text-align: right;\">\n",
       "      <th></th>\n",
       "      <th>Country</th>\n",
       "      <th>lessthan5_50</th>\n",
       "      <th>Continent</th>\n",
       "    </tr>\n",
       "  </thead>\n",
       "  <tbody>\n",
       "    <tr>\n",
       "      <th>0</th>\n",
       "      <td>Afghanistan</td>\n",
       "      <td>NaN</td>\n",
       "      <td>Asia</td>\n",
       "    </tr>\n",
       "    <tr>\n",
       "      <th>1</th>\n",
       "      <td>Albania</td>\n",
       "      <td>33.8</td>\n",
       "      <td>Europe</td>\n",
       "    </tr>\n",
       "    <tr>\n",
       "      <th>2</th>\n",
       "      <td>Algeria</td>\n",
       "      <td>28.6</td>\n",
       "      <td>Africa</td>\n",
       "    </tr>\n",
       "    <tr>\n",
       "      <th>3</th>\n",
       "      <td>Andorra</td>\n",
       "      <td>NaN</td>\n",
       "      <td>Europe</td>\n",
       "    </tr>\n",
       "    <tr>\n",
       "      <th>4</th>\n",
       "      <td>Angola</td>\n",
       "      <td>89.3</td>\n",
       "      <td>Africa</td>\n",
       "    </tr>\n",
       "    <tr>\n",
       "      <th>...</th>\n",
       "      <td>...</td>\n",
       "      <td>...</td>\n",
       "      <td>...</td>\n",
       "    </tr>\n",
       "    <tr>\n",
       "      <th>191</th>\n",
       "      <td>Venezuela</td>\n",
       "      <td>35.6</td>\n",
       "      <td>South America</td>\n",
       "    </tr>\n",
       "    <tr>\n",
       "      <th>192</th>\n",
       "      <td>Vietnam</td>\n",
       "      <td>23.6</td>\n",
       "      <td>Asia</td>\n",
       "    </tr>\n",
       "    <tr>\n",
       "      <th>193</th>\n",
       "      <td>Yemen</td>\n",
       "      <td>81.6</td>\n",
       "      <td>Asia</td>\n",
       "    </tr>\n",
       "    <tr>\n",
       "      <th>194</th>\n",
       "      <td>Zambia</td>\n",
       "      <td>87.2</td>\n",
       "      <td>Africa</td>\n",
       "    </tr>\n",
       "    <tr>\n",
       "      <th>195</th>\n",
       "      <td>Zimbabwe</td>\n",
       "      <td>74.0</td>\n",
       "      <td>Africa</td>\n",
       "    </tr>\n",
       "  </tbody>\n",
       "</table>\n",
       "<p>196 rows × 3 columns</p>\n",
       "</div>"
      ],
      "text/plain": [
       "         Country  lessthan5_50      Continent\n",
       "0    Afghanistan           NaN           Asia\n",
       "1        Albania          33.8         Europe\n",
       "2        Algeria          28.6         Africa\n",
       "3        Andorra           NaN         Europe\n",
       "4         Angola          89.3         Africa\n",
       "..           ...           ...            ...\n",
       "191    Venezuela          35.6  South America\n",
       "192      Vietnam          23.6           Asia\n",
       "193        Yemen          81.6           Asia\n",
       "194       Zambia          87.2         Africa\n",
       "195     Zimbabwe          74.0         Africa\n",
       "\n",
       "[196 rows x 3 columns]"
      ]
     },
     "execution_count": 51,
     "metadata": {},
     "output_type": "execute_result"
    }
   ],
   "source": [
    "TJdata"
   ]
  },
  {
   "cell_type": "markdown",
   "metadata": {},
   "source": [
    "Using the **to_csv** function, the file has been converted to a csv format. "
   ]
  },
  {
   "cell_type": "code",
   "execution_count": 52,
   "metadata": {},
   "outputs": [],
   "source": [
    "TJdata.to_csv('TJdata.csv',index=False)"
   ]
  },
  {
   "cell_type": "code",
   "execution_count": 53,
   "metadata": {},
   "outputs": [
    {
     "data": {
      "text/html": [
       "<div>\n",
       "<style scoped>\n",
       "    .dataframe tbody tr th:only-of-type {\n",
       "        vertical-align: middle;\n",
       "    }\n",
       "\n",
       "    .dataframe tbody tr th {\n",
       "        vertical-align: top;\n",
       "    }\n",
       "\n",
       "    .dataframe thead th {\n",
       "        text-align: right;\n",
       "    }\n",
       "</style>\n",
       "<table border=\"1\" class=\"dataframe\">\n",
       "  <thead>\n",
       "    <tr style=\"text-align: right;\">\n",
       "      <th></th>\n",
       "      <th>Country</th>\n",
       "      <th>lessthan5_50</th>\n",
       "      <th>Continent</th>\n",
       "    </tr>\n",
       "  </thead>\n",
       "  <tbody>\n",
       "    <tr>\n",
       "      <th>0</th>\n",
       "      <td>Afghanistan</td>\n",
       "      <td>NaN</td>\n",
       "      <td>Asia</td>\n",
       "    </tr>\n",
       "    <tr>\n",
       "      <th>1</th>\n",
       "      <td>Albania</td>\n",
       "      <td>33.8</td>\n",
       "      <td>Europe</td>\n",
       "    </tr>\n",
       "    <tr>\n",
       "      <th>2</th>\n",
       "      <td>Algeria</td>\n",
       "      <td>28.6</td>\n",
       "      <td>Africa</td>\n",
       "    </tr>\n",
       "    <tr>\n",
       "      <th>3</th>\n",
       "      <td>Andorra</td>\n",
       "      <td>NaN</td>\n",
       "      <td>Europe</td>\n",
       "    </tr>\n",
       "    <tr>\n",
       "      <th>4</th>\n",
       "      <td>Angola</td>\n",
       "      <td>89.3</td>\n",
       "      <td>Africa</td>\n",
       "    </tr>\n",
       "    <tr>\n",
       "      <th>...</th>\n",
       "      <td>...</td>\n",
       "      <td>...</td>\n",
       "      <td>...</td>\n",
       "    </tr>\n",
       "    <tr>\n",
       "      <th>191</th>\n",
       "      <td>Venezuela</td>\n",
       "      <td>35.6</td>\n",
       "      <td>South America</td>\n",
       "    </tr>\n",
       "    <tr>\n",
       "      <th>192</th>\n",
       "      <td>Vietnam</td>\n",
       "      <td>23.6</td>\n",
       "      <td>Asia</td>\n",
       "    </tr>\n",
       "    <tr>\n",
       "      <th>193</th>\n",
       "      <td>Yemen</td>\n",
       "      <td>81.6</td>\n",
       "      <td>Asia</td>\n",
       "    </tr>\n",
       "    <tr>\n",
       "      <th>194</th>\n",
       "      <td>Zambia</td>\n",
       "      <td>87.2</td>\n",
       "      <td>Africa</td>\n",
       "    </tr>\n",
       "    <tr>\n",
       "      <th>195</th>\n",
       "      <td>Zimbabwe</td>\n",
       "      <td>74.0</td>\n",
       "      <td>Africa</td>\n",
       "    </tr>\n",
       "  </tbody>\n",
       "</table>\n",
       "<p>196 rows × 3 columns</p>\n",
       "</div>"
      ],
      "text/plain": [
       "         Country  lessthan5_50      Continent\n",
       "0    Afghanistan           NaN           Asia\n",
       "1        Albania          33.8         Europe\n",
       "2        Algeria          28.6         Africa\n",
       "3        Andorra           NaN         Europe\n",
       "4         Angola          89.3         Africa\n",
       "..           ...           ...            ...\n",
       "191    Venezuela          35.6  South America\n",
       "192      Vietnam          23.6           Asia\n",
       "193        Yemen          81.6           Asia\n",
       "194       Zambia          87.2         Africa\n",
       "195     Zimbabwe          74.0         Africa\n",
       "\n",
       "[196 rows x 3 columns]"
      ]
     },
     "execution_count": 53,
     "metadata": {},
     "output_type": "execute_result"
    }
   ],
   "source": [
    "TJdata"
   ]
  }
 ],
 "metadata": {
  "kernelspec": {
   "display_name": "Python 3",
   "language": "python",
   "name": "python3"
  },
  "language_info": {
   "codemirror_mode": {
    "name": "ipython",
    "version": 3
   },
   "file_extension": ".py",
   "mimetype": "text/x-python",
   "name": "python",
   "nbconvert_exporter": "python",
   "pygments_lexer": "ipython3",
   "version": "3.8.5"
  }
 },
 "nbformat": 4,
 "nbformat_minor": 4
}
